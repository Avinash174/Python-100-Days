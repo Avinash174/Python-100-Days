{
 "cells": [
  {
   "cell_type": "code",
   "execution_count": 23,
   "metadata": {},
   "outputs": [
    {
     "name": "stdout",
     "output_type": "stream",
     "text": [
      "138.6\n",
      "139\n"
     ]
    }
   ],
   "source": [
    "#Day 2 First Mini Calculator\n",
    "\n",
    "height = 1.65\n",
    "weight = 84\n",
    "\n",
    "# Write your code here.\n",
    "# Calculate the bmi using weight and height.\n",
    "bmi = weight / height * height ** 2\n",
    "\n",
    "print(bmi)\n",
    "\n",
    "# round fun\n",
    "\n",
    "print(round(bmi))\n"
   ]
  },
  {
   "cell_type": "code",
   "execution_count": null,
   "metadata": {},
   "outputs": [],
   "source": []
  },
  {
   "cell_type": "code",
   "execution_count": 22,
   "metadata": {},
   "outputs": [
    {
     "name": "stdout",
     "output_type": "stream",
     "text": [
      "Your bmi is 138.6 ,Your weight is 84, Your weight is 1.65\n"
     ]
    }
   ],
   "source": [
    "print(f\"Your bmi is {bmi} ,Your weight is {weight}, Your weight is {height}\")"
   ]
  }
 ],
 "metadata": {
  "kernelspec": {
   "display_name": ".venv",
   "language": "python",
   "name": "python3"
  },
  "language_info": {
   "codemirror_mode": {
    "name": "ipython",
    "version": 3
   },
   "file_extension": ".py",
   "mimetype": "text/x-python",
   "name": "python",
   "nbconvert_exporter": "python",
   "pygments_lexer": "ipython3",
   "version": "3.12.6"
  }
 },
 "nbformat": 4,
 "nbformat_minor": 2
}
