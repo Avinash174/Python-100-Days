{
 "cells": [
  {
   "cell_type": "code",
   "execution_count": null,
   "metadata": {},
   "outputs": [],
   "source": [
    "# Day 2 Of Python 100 Days Of Code\n",
    "\n",
    "# In This Lession Following Thing Will Be Learn\n",
    "\n",
    "# Data types, Numbers ,Operations, Type Conversion, F-String"
   ]
  },
  {
   "cell_type": "code",
   "execution_count": null,
   "metadata": {},
   "outputs": [],
   "source": [
    "# Data Types \n",
    "\n",
    "# String Integer Floats Boolean"
   ]
  },
  {
   "cell_type": "code",
   "execution_count": null,
   "metadata": {},
   "outputs": [],
   "source": [
    "# Premitive Data Type\n"
   ]
  }
 ],
 "metadata": {
  "language_info": {
   "name": "python"
  }
 },
 "nbformat": 4,
 "nbformat_minor": 2
}
