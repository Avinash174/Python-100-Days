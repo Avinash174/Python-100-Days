{
 "cells": [
  {
   "cell_type": "code",
   "execution_count": 1,
   "metadata": {},
   "outputs": [],
   "source": [
    "# day 2 Final Mini Project Tip Calculator"
   ]
  },
  {
   "cell_type": "code",
   "execution_count": 3,
   "metadata": {},
   "outputs": [
    {
     "name": "stdout",
     "output_type": "stream",
     "text": [
      "Welcome to the tip calculator!\n",
      "\n",
      "143.75\n"
     ]
    }
   ],
   "source": [
    "print(\"Welcome to the tip calculator!\\n\")\n",
    "bill=float(input(\"What was the totla bill? $\" ))\n",
    "tip=int(input(\"How much percentage tip would you like to give?\"+ \"10% 12% 15%\"))\n",
    "people=int(input(\"How many number of peaople split the bill\"))\n",
    "bill_with_tip=tip /100 * bill + bill\n",
    "print(bill_with_tip)"
   ]
  }
 ],
 "metadata": {
  "kernelspec": {
   "display_name": ".venv",
   "language": "python",
   "name": "python3"
  },
  "language_info": {
   "codemirror_mode": {
    "name": "ipython",
    "version": 3
   },
   "file_extension": ".py",
   "mimetype": "text/x-python",
   "name": "python",
   "nbconvert_exporter": "python",
   "pygments_lexer": "ipython3",
   "version": "3.12.6"
  }
 },
 "nbformat": 4,
 "nbformat_minor": 2
}
