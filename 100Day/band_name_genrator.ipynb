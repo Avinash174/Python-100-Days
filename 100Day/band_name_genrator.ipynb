{
 "cells": [
  {
   "cell_type": "code",
   "execution_count": 1,
   "metadata": {},
   "outputs": [
    {
     "name": "stdout",
     "output_type": "stream",
     "text": [
      "Welcome To  Band Name Generator\n",
      "Your Band Name : Avi hh\n"
     ]
    }
   ],
   "source": [
    "# Band Name Generator( Day 1 Session Project)\n",
    "\n",
    "\n",
    "print(\"Welcome To  Band Name Generator\")\n",
    "city=input(\"Which City Are You Grow Up In :\\n\")\n",
    "pet=input(\"What Is Name Of Pet :\\n\")\n",
    "print(\"Your Band Name : \"+city +\" \"+pet)\n"
   ]
  },
  {
   "cell_type": "code",
   "execution_count": null,
   "metadata": {},
   "outputs": [],
   "source": [
    "# Day 1 Complete "
   ]
  }
 ],
 "metadata": {
  "kernelspec": {
   "display_name": ".venv",
   "language": "python",
   "name": "python3"
  },
  "language_info": {
   "codemirror_mode": {
    "name": "ipython",
    "version": 3
   },
   "file_extension": ".py",
   "mimetype": "text/x-python",
   "name": "python",
   "nbconvert_exporter": "python",
   "pygments_lexer": "ipython3",
   "version": "3.12.6"
  }
 },
 "nbformat": 4,
 "nbformat_minor": 2
}
