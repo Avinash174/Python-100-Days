{
 "cells": [
  {
   "cell_type": "code",
   "execution_count": 2,
   "metadata": {},
   "outputs": [
    {
     "name": "stdout",
     "output_type": "stream",
     "text": [
      "Welcome To  Band Name Generator\n",
      "Your Band Name : Mumbai Deg\n"
     ]
    }
   ],
   "source": [
    "# Band Name Generator( Day 1 Session Project)\n",
    "\n",
    "# Day 1 Complete \n",
    "\n",
    "print(\"Welcome To  Band Name Generator\")\n",
    "city=input(\"Which City Are You Grow Up In :\\n\")\n",
    "pet=input(\"What Is Name Of Pet :\\n\")\n",
    "print(\"Your Band Name : \"+city +\" \"+pet)\n"
   ]
  }
 ],
 "metadata": {
  "kernelspec": {
   "display_name": ".venv",
   "language": "python",
   "name": "python3"
  },
  "language_info": {
   "codemirror_mode": {
    "name": "ipython",
    "version": 3
   },
   "file_extension": ".py",
   "mimetype": "text/x-python",
   "name": "python",
   "nbconvert_exporter": "python",
   "pygments_lexer": "ipython3",
   "version": "3.12.6"
  }
 },
 "nbformat": 4,
 "nbformat_minor": 2
}
